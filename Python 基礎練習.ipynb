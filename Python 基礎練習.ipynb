{
 "cells": [
  {
   "cell_type": "code",
   "execution_count": 1,
   "metadata": {},
   "outputs": [
    {
     "name": "stdout",
     "output_type": "stream",
     "text": [
      "請輸入喜歡的水果(Enter = 結束): 西瓜\n",
      "請輸入喜歡的水果(Enter = 結束): 蘋果\n",
      "請輸入喜歡的水果(Enter = 結束): 荔枝\n",
      "請輸入喜歡的水果(Enter = 結束): \n",
      " 西瓜 在串列中的第 5 項\n",
      " 蘋果 在串列中的第 2 項\n",
      " 荔枝 不再此串列!!\n"
     ]
    }
   ],
   "source": [
    "#輸入喜歡的水果直到Enter鍵結束，找尋fruits水果串列是否包含此水果，並顯示該水果是串列中的第幾項。\n",
    "\n",
    "fruits = [\"香蕉\",\"蘋果\",\"橘子\",\"鳳梨\",\"西瓜\"]\n",
    "f_list =[]\n",
    "\n",
    "for i in range(100):\n",
    "    fav_fru = input(\"請輸入喜歡的水果(Enter = 結束): \")\n",
    "\n",
    "    if (fav_fru==\"\"):\n",
    "        break\n",
    "\n",
    "    f_list.append(fav_fru)\n",
    "\n",
    "for i in f_list :\n",
    "    if i not in fruits:\n",
    "        print(\" %s 不再此串列!!\" % i)\n",
    "\n",
    "    elif i in fruits:\n",
    "        print(\" %s 在串列中的第 %d 項\" % (i, (fruits.index(i) + 1)))"
   ]
  },
  {
   "cell_type": "code",
   "execution_count": 3,
   "metadata": {},
   "outputs": [
    {
     "name": "stdout",
     "output_type": "stream",
     "text": [
      "[1, 2, 3, 4, 7]\n"
     ]
    }
   ],
   "source": [
    "'''\n",
    "小智改進數字遊戲程式，要收集 numbers = [1,2,3,4,2,7,3,2,3]串列中的元素，放至numbers2串列中並顯示，相同數字不可重複。\n",
    "\n",
    "'''\n",
    "\n",
    "numbers = [1,2,3,4,2,7,3,2,3]\n",
    "\n",
    "numbers2 = []\n",
    "\n",
    "# 串列生成式應用\n",
    "numberlist = [numbers2.append(x) for x in numbers if not x in numbers2]\n",
    "\n",
    "print(numbers2)"
   ]
  },
  {
   "cell_type": "code",
   "execution_count": 9,
   "metadata": {},
   "outputs": [
    {
     "name": "stdout",
     "output_type": "stream",
     "text": [
      "生肖屬 鼠 的性格特徵為 親切和藹\n",
      "生肖屬 牛 的性格特徵為 保守努力\n",
      "生肖屬 虎 的性格特徵為 熱情大膽\n",
      "生肖屬 兔 的性格特徵為 溫柔仁慈\n"
     ]
    }
   ],
   "source": [
    "# dict.items應用\n",
    "\n",
    "animals = {'鼠':'親切和藹','牛':'保守努力','虎':'熱情大膽','兔':'溫柔仁慈'}\n",
    "\n",
    "for animal,personality in animals.items():\n",
    "    print(\"生肖屬 %s 的性格特徵為 %s\"%(animal,personality))\n"
   ]
  },
  {
   "cell_type": "code",
   "execution_count": null,
   "metadata": {},
   "outputs": [],
   "source": []
  }
 ],
 "metadata": {
  "kernelspec": {
   "display_name": "Python 3",
   "language": "python",
   "name": "python3"
  },
  "language_info": {
   "codemirror_mode": {
    "name": "ipython",
    "version": 3
   },
   "file_extension": ".py",
   "mimetype": "text/x-python",
   "name": "python",
   "nbconvert_exporter": "python",
   "pygments_lexer": "ipython3",
   "version": "3.7.7"
  }
 },
 "nbformat": 4,
 "nbformat_minor": 4
}
