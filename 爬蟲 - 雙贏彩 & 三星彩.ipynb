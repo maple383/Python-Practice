{
 "cells": [
  {
   "cell_type": "code",
   "execution_count": 1,
   "metadata": {},
   "outputs": [
    {
     "name": "stdout",
     "output_type": "stream",
     "text": [
      "開出順序: 15   04   17   03   06   01   14   18   24   22   11   20   \n",
      "大小順序: 01   03   04   06   11   14   15   17   18   20   22   24   "
     ]
    }
   ],
   "source": [
    "# 雙贏彩\n",
    "\n",
    "from urllib.request import urlopen\n",
    "from bs4 import BeautifulSoup\n",
    "\n",
    "html = urlopen('https://www.taiwanlottery.com.tw/')\n",
    "\n",
    "bs = BeautifulSoup(html,'html.parser')\n",
    "\n",
    "dataTag = bs.select('.contents_box06')\n",
    "\n",
    "#輸出雙贏彩的開出順序 & 大小順序\n",
    "bballs = dataTag[0].find_all('div',{'class':'ball_tx ball_blue'})\n",
    "\n",
    "print('開出順序: ',end='')\n",
    "for i in range(12):\n",
    "    print(bballs[i].text ,end='  ')\n",
    "\n",
    "\n",
    "print('\\n大小順序: ',end='')\n",
    "\n",
    "for i in range(12,len(bballs)):\n",
    "    print(bballs[i].text ,end='  ')"
   ]
  },
  {
   "cell_type": "code",
   "execution_count": 2,
   "metadata": {},
   "outputs": [
    {
     "name": "stdout",
     "output_type": "stream",
     "text": [
      "中獎號碼: 7  5  5  "
     ]
    }
   ],
   "source": [
    "# 三星彩\n",
    "\n",
    "from urllib.request import urlopen\n",
    "from bs4 import BeautifulSoup\n",
    "\n",
    "html = urlopen('https://www.taiwanlottery.com.tw/')\n",
    "\n",
    "bs = BeautifulSoup(html,'html.parser')\n",
    "\n",
    "dataTag = bs.select('.contents_box04')\n",
    "#print(dataTag)\n",
    "\n",
    "#輸出三星彩中獎號碼\n",
    "pballs = dataTag[0].find_all('div',{'class':'ball_tx ball_purple'})\n",
    "\n",
    "print('中獎號碼: ',end='')\n",
    "for i in range(len(pballs)):\n",
    "    print(pballs[i].text ,end='  ')"
   ]
  },
  {
   "cell_type": "code",
   "execution_count": null,
   "metadata": {},
   "outputs": [],
   "source": []
  }
 ],
 "metadata": {
  "kernelspec": {
   "display_name": "Python 3",
   "language": "python",
   "name": "python3"
  },
  "language_info": {
   "codemirror_mode": {
    "name": "ipython",
    "version": 3
   },
   "file_extension": ".py",
   "mimetype": "text/x-python",
   "name": "python",
   "nbconvert_exporter": "python",
   "pygments_lexer": "ipython3",
   "version": "3.7.7"
  }
 },
 "nbformat": 4,
 "nbformat_minor": 4
}
